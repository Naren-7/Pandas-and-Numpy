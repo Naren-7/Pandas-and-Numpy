{
 "cells": [
  {
   "cell_type": "code",
   "execution_count": 1,
   "metadata": {},
   "outputs": [],
   "source": [
    "import numpy as np"
   ]
  },
  {
   "cell_type": "markdown",
   "metadata": {},
   "source": [
    "## **Generando** un array"
   ]
  },
  {
   "cell_type": "code",
   "execution_count": 2,
   "metadata": {},
   "outputs": [
    {
     "data": {
      "text/plain": [
       "array([[1, 1],\n",
       "       [2, 1],\n",
       "       [2, 1]])"
      ]
     },
     "execution_count": 2,
     "metadata": {},
     "output_type": "execute_result"
    }
   ],
   "source": [
    "arr = np.random.randint(1, 4, size=(3,2))\n",
    "arr"
   ]
  },
  {
   "cell_type": "markdown",
   "metadata": {},
   "source": [
    "## **Ver** la **estructura de un array** 🦄"
   ]
  },
  {
   "cell_type": "markdown",
   "metadata": {},
   "source": [
    "- Muestra la **cantidad de filas y columnas**"
   ]
  },
  {
   "cell_type": "code",
   "execution_count": 3,
   "metadata": {},
   "outputs": [
    {
     "data": {
      "text/plain": [
       "(3, 2)"
      ]
     },
     "execution_count": 3,
     "metadata": {},
     "output_type": "execute_result"
    }
   ],
   "source": [
    "arr.shape"
   ]
  },
  {
   "cell_type": "markdown",
   "metadata": {},
   "source": [
    "## **Reformando** la **estructura** de una **array**"
   ]
  },
  {
   "cell_type": "markdown",
   "metadata": {},
   "source": [
    "- Para la **transforamcion** de una array tenemos que **respetar la cantidad elementos** de la **escructura (x,y)**.\n"
   ]
  },
  {
   "cell_type": "markdown",
   "metadata": {},
   "source": [
    "### Ejemplo con arr = np.random.randint(1, 4, size = **(3,2)** )"
   ]
  },
  {
   "cell_type": "code",
   "execution_count": 4,
   "metadata": {},
   "outputs": [
    {
     "data": {
      "text/plain": [
       "array([[1],\n",
       "       [1],\n",
       "       [2],\n",
       "       [1],\n",
       "       [2],\n",
       "       [1]])"
      ]
     },
     "execution_count": 4,
     "metadata": {},
     "output_type": "execute_result"
    }
   ],
   "source": [
    "arr.reshape(1,6) \n",
    "arr.reshape(6,1)"
   ]
  },
  {
   "cell_type": "markdown",
   "metadata": {},
   "source": []
  },
  {
   "cell_type": "markdown",
   "metadata": {},
   "source": [
    "- Siempre tiene que dar la **misma cantidad de elmentos**"
   ]
  },
  {
   "cell_type": "code",
   "execution_count": 5,
   "metadata": {},
   "outputs": [
    {
     "data": {
      "text/plain": [
       "array([[4, 3],\n",
       "       [3, 3],\n",
       "       [3, 1],\n",
       "       [2, 4],\n",
       "       [4, 1],\n",
       "       [4, 1],\n",
       "       [2, 4],\n",
       "       [1, 1],\n",
       "       [4, 2],\n",
       "       [4, 1],\n",
       "       [2, 3],\n",
       "       [4, 1],\n",
       "       [4, 1],\n",
       "       [2, 4],\n",
       "       [2, 3],\n",
       "       [4, 1]])"
      ]
     },
     "execution_count": 5,
     "metadata": {},
     "output_type": "execute_result"
    }
   ],
   "source": [
    "arr = np.random.randint(1,5, size=(4,8))\n",
    "arr.shape\n",
    "arr.reshape(16,2)\n",
    "\n"
   ]
  },
  {
   "cell_type": "markdown",
   "metadata": {},
   "source": [
    "- ver como se **reforma** y **organiza** una **estructura** en otro **lenguajes de programacion**"
   ]
  },
  {
   "cell_type": "code",
   "execution_count": 6,
   "metadata": {},
   "outputs": [
    {
     "data": {
      "text/plain": [
       "array([[4, 3, 3, 3],\n",
       "       [3, 1, 2, 4],\n",
       "       [4, 1, 4, 1],\n",
       "       [2, 4, 1, 1],\n",
       "       [4, 2, 4, 1],\n",
       "       [2, 3, 4, 1],\n",
       "       [4, 1, 2, 4],\n",
       "       [2, 3, 4, 1]])"
      ]
     },
     "execution_count": 6,
     "metadata": {},
     "output_type": "execute_result"
    }
   ],
   "source": [
    "arr\n",
    "np.reshape(arr,(8,4),'C')"
   ]
  },
  {
   "cell_type": "code",
   "execution_count": 7,
   "metadata": {},
   "outputs": [
    {
     "data": {
      "text/plain": [
       "array([[4, 3],\n",
       "       [4, 2],\n",
       "       [4, 2],\n",
       "       [4, 2],\n",
       "       [3, 1],\n",
       "       [1, 4],\n",
       "       [2, 3],\n",
       "       [1, 3],\n",
       "       [3, 2],\n",
       "       [4, 1],\n",
       "       [4, 4],\n",
       "       [2, 4],\n",
       "       [3, 4],\n",
       "       [1, 1],\n",
       "       [1, 1],\n",
       "       [4, 1]])"
      ]
     },
     "execution_count": 7,
     "metadata": {},
     "output_type": "execute_result"
    }
   ],
   "source": [
    "np.reshape(arr,(16,2),'F')"
   ]
  },
  {
   "cell_type": "markdown",
   "metadata": {},
   "source": [
    "- La '**A**' hace referencia a mi **OS(Sitema Operativo)**."
   ]
  },
  {
   "cell_type": "code",
   "execution_count": 8,
   "metadata": {},
   "outputs": [
    {
     "data": {
      "text/plain": [
       "array([[4, 3, 3, 3],\n",
       "       [3, 1, 2, 4],\n",
       "       [4, 1, 4, 1],\n",
       "       [2, 4, 1, 1],\n",
       "       [4, 2, 4, 1],\n",
       "       [2, 3, 4, 1],\n",
       "       [4, 1, 2, 4],\n",
       "       [2, 3, 4, 1]])"
      ]
     },
     "execution_count": 8,
     "metadata": {},
     "output_type": "execute_result"
    }
   ],
   "source": [
    "np.reshape(arr,(8,4),'A')"
   ]
  },
  {
   "cell_type": "markdown",
   "metadata": {},
   "source": []
  },
  {
   "cell_type": "markdown",
   "metadata": {},
   "source": [
    "> Preferimente usar **'C'** lo organiza por **filas** y **columnas**.\n",
    "\n",
    "> Para mejor **optimizacion** usar **'A'**\n"
   ]
  },
  {
   "cell_type": "markdown",
   "metadata": {},
   "source": []
  },
  {
   "cell_type": "markdown",
   "metadata": {},
   "source": [
    "## Reto!!"
   ]
  },
  {
   "cell_type": "code",
   "execution_count": 9,
   "metadata": {},
   "outputs": [
    {
     "data": {
      "text/plain": [
       "(32, 1)"
      ]
     },
     "execution_count": 9,
     "metadata": {},
     "output_type": "execute_result"
    }
   ],
   "source": [
    "f = np.random.randint(2,5, size=(32,1))\n",
    "f\n",
    "f.shape\n"
   ]
  },
  {
   "cell_type": "code",
   "execution_count": 10,
   "metadata": {},
   "outputs": [
    {
     "data": {
      "text/plain": [
       "array([[3, 3, 4, 2],\n",
       "       [4, 2, 3, 3],\n",
       "       [3, 3, 4, 4],\n",
       "       [3, 3, 3, 3],\n",
       "       [3, 4, 2, 3],\n",
       "       [3, 2, 4, 2],\n",
       "       [3, 2, 4, 3],\n",
       "       [4, 3, 4, 3]])"
      ]
     },
     "execution_count": 10,
     "metadata": {},
     "output_type": "execute_result"
    }
   ],
   "source": [
    "np.reshape(f,(8,4),\"C\")"
   ]
  },
  {
   "cell_type": "code",
   "execution_count": 11,
   "metadata": {},
   "outputs": [
    {
     "data": {
      "text/plain": [
       "array([[3, 3, 3, 3],\n",
       "       [3, 3, 4, 2],\n",
       "       [4, 4, 2, 4],\n",
       "       [2, 4, 3, 3],\n",
       "       [4, 3, 3, 4],\n",
       "       [2, 3, 2, 3],\n",
       "       [3, 3, 4, 4],\n",
       "       [3, 3, 2, 3]])"
      ]
     },
     "execution_count": 11,
     "metadata": {},
     "output_type": "execute_result"
    }
   ],
   "source": [
    "np.reshape(f,(8,4),\"F\")"
   ]
  },
  {
   "cell_type": "code",
   "execution_count": 12,
   "metadata": {},
   "outputs": [
    {
     "data": {
      "text/plain": [
       "array([[3, 3, 4, 2, 4, 2, 3, 3, 3, 3, 4, 4, 3, 3, 3, 3, 3, 4, 2, 3, 3, 2,\n",
       "        4, 2, 3, 2, 4, 3, 4, 3, 4, 3]])"
      ]
     },
     "execution_count": 12,
     "metadata": {},
     "output_type": "execute_result"
    }
   ],
   "source": [
    "np.reshape(f,(1,32),\"A\")"
   ]
  },
  {
   "cell_type": "code",
   "execution_count": 13,
   "metadata": {},
   "outputs": [
    {
     "data": {
      "text/plain": [
       "array([[3, 3, 4, 2, 4, 2, 3, 3, 3, 3, 4, 4, 3, 3, 3, 3, 3, 4, 2, 3, 3, 2,\n",
       "        4, 2, 3, 2, 4, 3, 4, 3, 4, 3]])"
      ]
     },
     "execution_count": 13,
     "metadata": {},
     "output_type": "execute_result"
    }
   ],
   "source": [
    "np.reshape(f,(1,32),\"C\")"
   ]
  },
  {
   "cell_type": "code",
   "execution_count": 14,
   "metadata": {},
   "outputs": [
    {
     "data": {
      "text/plain": [
       "array([[3, 3, 4, 2, 4, 2, 3, 3, 3, 3, 4, 4, 3, 3, 3, 3, 3, 4, 2, 3, 3, 2,\n",
       "        4, 2, 3, 2, 4, 3, 4, 3, 4, 3]])"
      ]
     },
     "execution_count": 14,
     "metadata": {},
     "output_type": "execute_result"
    }
   ],
   "source": [
    "np.reshape(f,(1,32),\"F\")"
   ]
  },
  {
   "cell_type": "code",
   "execution_count": null,
   "metadata": {},
   "outputs": [],
   "source": []
  }
 ],
 "metadata": {
  "interpreter": {
   "hash": "92807969bafd98978ce1cea99dc0d2ddc098bfeea1314cb288cbb0b0a397b77d"
  },
  "kernelspec": {
   "display_name": "Python 3.10.4 ('numpy')",
   "language": "python",
   "name": "python3"
  },
  "language_info": {
   "codemirror_mode": {
    "name": "ipython",
    "version": 3
   },
   "file_extension": ".py",
   "mimetype": "text/x-python",
   "name": "python",
   "nbconvert_exporter": "python",
   "pygments_lexer": "ipython3",
   "version": "3.10.4"
  },
  "orig_nbformat": 4
 },
 "nbformat": 4,
 "nbformat_minor": 2
}
