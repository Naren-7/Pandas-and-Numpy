{
 "cells": [
  {
   "cell_type": "markdown",
   "metadata": {},
   "source": [
    "# Creación de **graficos**"
   ]
  },
  {
   "cell_type": "code",
   "execution_count": null,
   "metadata": {},
   "outputs": [],
   "source": [
    "# Importar el módulo pyplot con el alias plt\n",
    "import matplotlib.pyplot as plt\n",
    "\n",
    "# Crear la figura y los ejes\n",
    "fig, ax = plt.subplots()\n",
    "\n",
    "# Dibujar puntos\n",
    "ax.scatter(x = [1, 2, 3], y = [3, 2, 1])\n",
    "\n",
    "# Guardar el gráfico en formato png\n",
    "plt.savefig('./Diagramas/diagrama-dispersion.png')\n",
    "\n",
    "# Mostrar el gráfico\n",
    "plt.show()\n"
   ]
  },
  {
   "cell_type": "markdown",
   "metadata": {},
   "source": [
    "----"
   ]
  },
  {
   "cell_type": "markdown",
   "metadata": {},
   "source": [
    "### Crao dos variables una encargadas de:\n",
    "- **figura** (diagrama)\n",
    "- **ejes**: Donde dibujaremos nuestros datos"
   ]
  },
  {
   "cell_type": "code",
   "execution_count": null,
   "metadata": {},
   "outputs": [],
   "source": [
    "figura, ejes = plt.subplots()"
   ]
  },
  {
   "cell_type": "markdown",
   "metadata": {},
   "source": [
    "###  Dibujando datos.\n",
    "    🚨 Cada diagram cuenta con una distinta funcion.\n",
    "\n",
    "- **X**: Indices \n",
    "- **Y**: Valores\n",
    "\n",
    "Se utilizan de **manera por defecto** ya que no especificamos **indices**"
   ]
  },
  {
   "cell_type": "code",
   "execution_count": null,
   "metadata": {},
   "outputs": [],
   "source": [
    "ejes.scatter(x = [1, 3, 4, 9], y = [15, 13, 9, 3])"
   ]
  },
  {
   "cell_type": "markdown",
   "metadata": {},
   "source": [
    "\n",
    "#\n",
    "\n",
    "### **Gurdamos** y **Mostramos**\n",
    "- **Savefig()**: funcion que permite guardar el diagram con extención **.png**\n",
    "- **Show**: Mostrar el diagrama\n",
    "\n",
    "> Tendremos que ejecutar el codigo en una **unica celda** 🐏"
   ]
  },
  {
   "cell_type": "code",
   "execution_count": null,
   "metadata": {},
   "outputs": [],
   "source": [
    "figura, ejes = plt.subplots()\n",
    "ejes.scatter(x = [1, 3, 4, 9], y = [15, 13, 9, 3])\n",
    "plt.savefig(\"./Diagramas/diagrama.png\")\n",
    "plt.show()"
   ]
  },
  {
   "cell_type": "markdown",
   "metadata": {},
   "source": [
    "----\n"
   ]
  },
  {
   "cell_type": "markdown",
   "metadata": {},
   "source": [
    "#\n",
    "\n",
    "# Diagramas de dispersión o puntos\n",
    "- **scatter(x, y):** Dibuja un diagrama de puntos con las coordenadas de la lista x en el eje **X** y las coordenadas de la lista y en el eje **Y**."
   ]
  },
  {
   "cell_type": "code",
   "execution_count": null,
   "metadata": {},
   "outputs": [],
   "source": [
    "fig, ax = plt.subplots()\n",
    "ax.scatter(y = [1, 2, 3, 4], x = [1, 2, 0, 0.5], edgecolors=\"green\" )\n",
    "plt.show()"
   ]
  },
  {
   "cell_type": "markdown",
   "metadata": {},
   "source": [
    "----\n"
   ]
  },
  {
   "cell_type": "markdown",
   "metadata": {},
   "source": [
    "# Diagramas lineales"
   ]
  },
  {
   "cell_type": "markdown",
   "metadata": {},
   "source": [
    "- **plot(x, y):** Dibuja un polígono con los vértices dados por las coordenadas de la lista x en el **eje** **X** y las coordenadas de la lista y en el **eje Y**.\n"
   ]
  },
  {
   "cell_type": "code",
   "execution_count": null,
   "metadata": {},
   "outputs": [],
   "source": [
    "fig, ax = plt.subplots()\n",
    "ax.plot([1, 2, 3, 4], [1, 2, 0, 0.5], '-g', linewidth=4, markersize=-400)\n",
    "plt.show()"
   ]
  },
  {
   "cell_type": "markdown",
   "metadata": {},
   "source": [
    "----"
   ]
  },
  {
   "cell_type": "markdown",
   "metadata": {},
   "source": [
    "# Diagramas de **areas**\n",
    "- **fill_between(x, y):** Dibuja el area bajo el polígono con los vértices dados por las coordenadas de la lista x en el **eje X** y las coordenadas de la lista y en el **eje Y**."
   ]
  },
  {
   "cell_type": "code",
   "execution_count": null,
   "metadata": {},
   "outputs": [],
   "source": [
    "fig, ax = plt.subplots()\n",
    "ax.fill_between([1, 2, 3, 4], [1, 2, 0, 0.5])\n",
    "plt.show()"
   ]
  },
  {
   "cell_type": "markdown",
   "metadata": {},
   "source": [
    "----"
   ]
  },
  {
   "cell_type": "markdown",
   "metadata": {},
   "source": [
    "# Diagramas de **barras verticales**\n",
    "\n",
    "- **bar(x, y):** Dibuja un diagrama de barras verticales donde x es una lista con la posición de las barras en el **eje X**, e y es una lista con la altura de las barras en el **eje Y.**"
   ]
  },
  {
   "cell_type": "code",
   "execution_count": null,
   "metadata": {},
   "outputs": [],
   "source": [
    "fig, ax = plt.subplots()\n",
    "ax.bar([1, 2, 3], [3, 2, 1], color=\"Yellow\", edgecolor=\"green\")\n",
    "plt.show()"
   ]
  },
  {
   "cell_type": "markdown",
   "metadata": {},
   "source": [
    "----"
   ]
  },
  {
   "cell_type": "markdown",
   "metadata": {},
   "source": [
    "# Diagramas de **barras horizontales**\n",
    "- **barh(x, y):** Dibuja un diagrama de barras horizontales donde x es una lista con la posición de las barras en el **eje Y**, e y es una lista con la longitud de las barras en el **eje X.**\n"
   ]
  },
  {
   "cell_type": "code",
   "execution_count": null,
   "metadata": {},
   "outputs": [],
   "source": [
    "fig, ax = plt.subplots()\n",
    "ax.barh([1, 2, 3], [3, 2, 1], align=\"center\" )\n",
    "plt.show()"
   ]
  },
  {
   "cell_type": "markdown",
   "metadata": {},
   "source": [
    "----"
   ]
  },
  {
   "cell_type": "markdown",
   "metadata": {},
   "source": [
    "# Histogramas\n",
    "- **hist(x, bins):** Dibuja un histograma con las frecuencias resultantes de agrupar los datos de la lista x en las clases definidas por la **lista bins.**\n"
   ]
  },
  {
   "cell_type": "markdown",
   "metadata": {},
   "source": []
  },
  {
   "cell_type": "code",
   "execution_count": null,
   "metadata": {},
   "outputs": [],
   "source": [
    "import numpy as np\n",
    "\n",
    "fig, ax = plt.subplots()\n",
    "x = np.random.normal(5, 1.5, size=15)\n",
    "ax.hist(x, np.arange(0, 6), color=\"r\")\n",
    "plt.show()\n",
    "\n",
    "\n"
   ]
  },
  {
   "cell_type": "markdown",
   "metadata": {},
   "source": [
    "----"
   ]
  },
  {
   "cell_type": "markdown",
   "metadata": {},
   "source": [
    "# Diagramas de **sectores**\n",
    "- **pie(x):** Dibuja un diagrama de **sectores** con las frecuencias de la **lista x.**"
   ]
  },
  {
   "cell_type": "code",
   "execution_count": null,
   "metadata": {},
   "outputs": [],
   "source": [
    "fig, ax = plt.subplots()\n",
    "ax.pie(x = [5, 4, 3, 2, 1], labels = [\"hola\", \"4\", \"3\", \"2\", \"1\"])\n",
    "plt.show()"
   ]
  }
 ],
 "metadata": {
  "kernelspec": {
   "display_name": "Python 3.10.4 ('dataSc')",
   "language": "python",
   "name": "python3"
  },
  "language_info": {
   "codemirror_mode": {
    "name": "ipython",
    "version": 3
   },
   "file_extension": ".py",
   "mimetype": "text/x-python",
   "name": "python",
   "nbconvert_exporter": "python",
   "pygments_lexer": "ipython3",
   "version": "3.10.4"
  },
  "orig_nbformat": 4,
  "vscode": {
   "interpreter": {
    "hash": "ff550ef0072d294ac07ec551f319c65541aa1806563e3b8e6de41ffa1fdac6bf"
   }
  }
 },
 "nbformat": 4,
 "nbformat_minor": 2
}
